{
 "cells": [
  {
   "cell_type": "markdown",
   "metadata": {
    "slideshow": {
     "slide_type": "slide"
    }
   },
   "source": [
    "# Climate models, the global energy budget, and Fun with Python\n",
    "\n",
    "This notebook is part of [The Climate Laboratory](https://brian-rose.github.io/ClimateLaboratoryBook) by [Brian E. J. Rose](http://www.atmos.albany.edu/facstaff/brose/index.html), University at Albany."
   ]
  },
  {
   "cell_type": "markdown",
   "metadata": {
    "slideshow": {
     "slide_type": "slide"
    }
   },
   "source": [
    "____________\n",
    "<a id='section1'></a>\n",
    "\n",
    "## 1. What is a Climate Model?\n",
    "____________"
   ]
  },
  {
   "cell_type": "markdown",
   "metadata": {
    "slideshow": {
     "slide_type": "slide"
    }
   },
   "source": [
    "First, some thoughts on modeling from [xkcd](https://xkcd.com)\n",
    "\n",
    "![physicists](https://imgs.xkcd.com/comics/physicists.png)"
   ]
  },
  {
   "cell_type": "markdown",
   "metadata": {
    "slideshow": {
     "slide_type": "slide"
    }
   },
   "source": [
    "Let's be a little pedantic and decompose that question:\n",
    "\n",
    "- what is Climate?\n",
    "- what is a Model?"
   ]
  },
  {
   "cell_type": "markdown",
   "metadata": {
    "slideshow": {
     "slide_type": "fragment"
    }
   },
   "source": [
    "**Climate** is\n",
    "\n",
    "- statistics of weather, e.g. space and time averages of temperature and precip.\n",
    "- (statistics might also mean higher-order stats: variability etc)"
   ]
  },
  {
   "cell_type": "markdown",
   "metadata": {
    "slideshow": {
     "slide_type": "fragment"
    }
   },
   "source": [
    "A **model** is\n",
    "\n",
    " - not easy to define!"
   ]
  },
  {
   "cell_type": "markdown",
   "metadata": {
    "slideshow": {
     "slide_type": "slide"
    }
   },
   "source": [
    "Wikipedia: http://en.wikipedia.org/wiki/Conceptual_model\n",
    "\n",
    "> In the most general sense, a model is anything used in any way to represent anything else. Some models are physical objects, for instance, a toy model which may be assembled, and may even be made to work like the object it represents. Whereas, a conceptual model is a model made of the composition of concepts, that thus exists only in the mind. Conceptual models are used to help us know, understand, or simulate the subject matter they represent."
   ]
  },
  {
   "cell_type": "markdown",
   "metadata": {
    "slideshow": {
     "slide_type": "slide"
    }
   },
   "source": [
    "George E. P. Box (statistician):\n",
    "> Essentially, all models are wrong, but some are useful.”"
   ]
  },
  {
   "cell_type": "markdown",
   "metadata": {
    "slideshow": {
     "slide_type": "slide"
    }
   },
   "source": [
    "From the Climate Modelling Primer, 4th ed (McGuffie and Henderson-Sellers):\n",
    "\n",
    "> In the broadest sense, models are for learning about the world (in our case, the climate) and the learning takes place in the contruction and the manipulation of the model, as anyone who has watched a child build idealised houses or spaceships with Lego, or built with it themselves, will know.  Climate models are, likewise, idealised representations of a complicated and complex reality through which our understanding of the climate has significantly expanded. All models involve some ignoring, distoring and approximating, but gradually they allow us to build understanding of the system being modelled. A child's Lego construction typically contains the essential elements of the real objects, improves with attention to detail, helps them understand the real world, but is never confused with the real thing."
   ]
  },
  {
   "cell_type": "markdown",
   "metadata": {
    "slideshow": {
     "slide_type": "slide"
    }
   },
   "source": [
    "### A minimal definition of a climate model\n",
    "\n",
    "*A representation of the exchange of energy between the Earth system and space, and its effects on average surface temperature.*\n",
    "\n",
    "(what average?) \n",
    "\n",
    "Note the focus on **planetary energy budget**. That’s the key to all climate modeling."
   ]
  },
  {
   "cell_type": "markdown",
   "metadata": {
    "slideshow": {
     "slide_type": "slide"
    }
   },
   "source": [
    "____________\n",
    "<a id='section2'></a>\n",
    "\n",
    "## 2. The observed global energy budget\n",
    "____________\n",
    "\n",
    "The figure below shows current best estimates of the *global, annual mean* energy fluxes through the climate system.\n",
    "\n",
    "We will look at many of these processes in detail throughout the course."
   ]
  },
  {
   "cell_type": "markdown",
   "metadata": {},
   "source": [
    "![Observed global energy flows from Trenberth and Fasullo (2012)](../images/GlobalEnergyBudget.png)"
   ]
  },
  {
   "cell_type": "markdown",
   "metadata": {
    "slideshow": {
     "slide_type": "slide"
    }
   },
   "source": [
    "## Things to note:\n",
    "\n",
    "### On the shortwave side\n",
    "\n",
    "- global mean albedo is 101.9 W m$^{-2}$ / 341.3 W m$^{-2}$ = 0.299\n",
    "- Reflection off clouds = 79 W m$^{-2}$\n",
    "- Off surface = 23 W m$^{-2}$\n",
    "    - 3 times as much reflection off clouds as off surface\n",
    "    \n",
    "Why??  Think about both areas of ice and snow, and the fact that sunlight has to travel through cloudy atmosphere to get to the ice and snow. Also there is some absorption of shortwave by the atmosphere.\n",
    "\n",
    "- Atmospheric absorption = 78 W m$^{-2}$\n",
    "(so about the same as reflected by clouds)\n",
    "\n",
    "QUESTION: Which gases contribute to shortwave absorption?\n",
    "\n",
    "- O$_3$ and H$_2$O mostly.\n",
    "- We will look at this later."
   ]
  },
  {
   "cell_type": "markdown",
   "metadata": {
    "slideshow": {
     "slide_type": "slide"
    }
   },
   "source": [
    "### On the longwave side\n",
    "\n",
    "- Observed emission from the SURFACE is 396 W m$^{-2}$\n",
    "- very close to the blackbody emission $\\sigma T^4$ at $T = 288$ K (the global mean surface temperature).\n",
    "- BUT emission to space is much smaller = 239 W m$^{-2}$\n",
    "\n",
    "QUESTION: What do we call this?  (greenhouse effect)"
   ]
  },
  {
   "cell_type": "markdown",
   "metadata": {
    "slideshow": {
     "slide_type": "slide"
    }
   },
   "source": [
    "### Look at net numbers…\n",
    "\n",
    "- Net absorbed = 0.9 W m$^{-2}$\n",
    "- Why?\n",
    "- Where is that heat going?\n",
    "\n",
    "Note, the exchanges of energy between the surface and the atmosphere are complicated, involve a number of different processes. We will look at these more carefully later."
   ]
  },
  {
   "cell_type": "markdown",
   "metadata": {
    "slideshow": {
     "slide_type": "slide"
    }
   },
   "source": [
    "### Additional points:\n",
    "\n",
    "- Notice that this is a budget of energy, not temperature.\n",
    "- We will need to discuss the connection between the two\n",
    "- **Clouds** affect both longwave and shortwave sides of the budget.\n",
    "- **WATER** is involved in many of the terms: \n",
    "\n",
    "    - evaporation\n",
    "    - latent heating (equal and opposite in the global mean)\n",
    "    - clouds\n",
    "    - greenhouse effect\n",
    "    - atmospheric SW absorption\n",
    "    - surface reflectivity (ice and snow)"
   ]
  },
  {
   "cell_type": "markdown",
   "metadata": {
    "slideshow": {
     "slide_type": "slide"
    }
   },
   "source": [
    "### Discussion point\n",
    "\n",
    "How might we expect some of the terms in the global energy budget to vary under anthropogenic climate change?"
   ]
  },
  {
   "cell_type": "markdown",
   "metadata": {
    "slideshow": {
     "slide_type": "slide"
    }
   },
   "source": [
    "____________\n",
    "\n",
    "## 3. Using Python to compute emission to space\n",
    "____________"
   ]
  },
  {
   "cell_type": "markdown",
   "metadata": {},
   "source": [
    "Suppose the Earth behaves like a **blackbody radiator** with effective global mean **emission temperature $T_e$**.\n",
    "\n",
    "Then\n",
    "\n",
    "$$ OLR = \\epsilon \\sigma T_e^4 $$\n",
    "\n",
    "where:-\n",
    "\n",
    "- OLR = \"Outgoing Longwave Radiation\", shown in the above diagram to be for the earth, 238.5 W m$^{-2}$\n",
    "\n",
    "- $\\epsilon$ is 1 which denotes a perfect black body\n",
    "\n",
    "- $\\sigma = 5.67 \\times 10{-8}$ W m$^{-2}$ K$^{-4}$ the Stefan-Boltzmann constant"
   ]
  },
  {
   "cell_type": "markdown",
   "metadata": {},
   "source": [
    "### Re-arranging we can calculate the emission temperature $T_e$ as:-"
   ]
  },
  {
   "cell_type": "markdown",
   "metadata": {},
   "source": [
    "$$ T_e = \\left(\\frac{\\text{OLR}}{\\sigma} \\right)^{\\frac{1}{4}} $$"
   ]
  },
  {
   "cell_type": "markdown",
   "metadata": {},
   "source": [
    "First just use Python like a hand calculator to calculate $T_e$ iteractively:"
   ]
  },
  {
   "cell_type": "markdown",
   "metadata": {},
   "source": []
  },
  {
   "cell_type": "code",
   "execution_count": 2,
   "metadata": {},
   "outputs": [
    {
     "data": {
      "text/plain": [
       "254.66914551158553"
      ]
     },
     "execution_count": 2,
     "metadata": {},
     "output_type": "execute_result"
    }
   ],
   "source": [
    "sigma = (5.67 * 10**-8)\n",
    "Te = (238.5 / sigma) ** 0.25\n",
    "Te"
   ]
  },
  {
   "cell_type": "markdown",
   "metadata": {},
   "source": [
    "### Theoretical Black Box Earth Temperature is Less than Actual\n",
    "\n",
    "The actual global mean temperature is said to be 14.9 centigrade which is 288 $K$ higher than the 255 $K$ of the black body model. This is because not all of the emitted radiation makes it out to space due to the greenhouse effect."
   ]
  },
  {
   "cell_type": "markdown",
   "metadata": {},
   "source": [
    "### A simple greenhouse model"
   ]
  },
  {
   "cell_type": "markdown",
   "metadata": {},
   "source": [
    "We will model the OLR as\n",
    "\n",
    "$$ \\text{OLR} = \\tau \\sigma T_s^4 $$\n",
    "\n",
    "where $\\tau$ is a number we will call the **transmissivity** of the atmosphere.\n"
   ]
  },
  {
   "cell_type": "markdown",
   "metadata": {},
   "source": [
    "Rearranging:\n",
    "\n",
    "$$ \\tau = \\frac{\\text{OLR}}{\\sigma T_s^4} $$"
   ]
  },
  {
   "cell_type": "code",
   "execution_count": 3,
   "metadata": {},
   "outputs": [
    {
     "data": {
      "text/plain": [
       "0.6114139923687018"
      ]
     },
     "execution_count": 3,
     "metadata": {},
     "output_type": "execute_result"
    }
   ],
   "source": [
    "tau = 238.5 / (sigma * 288**4)\n",
    "tau"
   ]
  },
  {
   "cell_type": "markdown",
   "metadata": {},
   "source": [
    "Try calculating OLR for a warmer Earth at 292 K:"
   ]
  },
  {
   "cell_type": "code",
   "execution_count": 15,
   "metadata": {},
   "outputs": [
    {
     "data": {
      "text/plain": [
       "252.02860648282103"
      ]
     },
     "execution_count": 15,
     "metadata": {},
     "output_type": "execute_result"
    }
   ],
   "source": [
    "OLR = tau * (sigma * 292**4)\n",
    "OLR"
   ]
  },
  {
   "cell_type": "markdown",
   "metadata": {},
   "source": [
    "Naturally the emission to space is higher. By how much has it increased for this 4 degree warming?"
   ]
  },
  {
   "cell_type": "code",
   "execution_count": 16,
   "metadata": {},
   "outputs": [
    {
     "data": {
      "text/plain": [
       "13.528606482821033"
      ]
     },
     "execution_count": 16,
     "metadata": {},
     "output_type": "execute_result"
    }
   ],
   "source": [
    "OLR - 238.5"
   ]
  },
  {
   "cell_type": "markdown",
   "metadata": {},
   "source": [
    "Answer: 13.5 W m$^{-2}$. Okay but this is tedious and prone to error.\n",
    "What we really want to do is **define a reusable function**"
   ]
  },
  {
   "cell_type": "code",
   "execution_count": 26,
   "metadata": {},
   "outputs": [],
   "source": [
    "def OLR(temp):\n",
    "    sigma = (5.67 * 10**-8)\n",
    "    tau = 238.5 / sigma / 288**4\n",
    "    olr = tau * (sigma * temp**4)\n",
    "    return olr"
   ]
  },
  {
   "cell_type": "code",
   "execution_count": 27,
   "metadata": {},
   "outputs": [
    {
     "name": "stdout",
     "output_type": "stream",
     "text": [
      "238.49999999999997 252.02860648282103 13.528606482821061\n"
     ]
    }
   ],
   "source": [
    "print(OLR(288), OLR(292), OLR(292)-OLR(288))"
   ]
  },
  {
   "cell_type": "markdown",
   "metadata": {},
   "source": [
    "### Arrays with `numpy`\n",
    "\n",
    "Now let’s try some array calculations:"
   ]
  },
  {
   "cell_type": "code",
   "execution_count": 22,
   "metadata": {},
   "outputs": [
    {
     "name": "stdout",
     "output_type": "stream",
     "text": [
      "[230.         237.77777778 245.55555556 253.33333333 261.11111111\n",
      " 268.88888889 276.66666667 284.44444444 292.22222222 300.        ]\n"
     ]
    }
   ],
   "source": [
    "import numpy as np\n",
    "T = np.linspace(230, 300, 10)\n",
    "print(T)"
   ]
  },
  {
   "cell_type": "markdown",
   "metadata": {},
   "source": [
    "- We have just created an array object. \n",
    "- The `linspace` function creates an array of numbers evenly spaced between the start and end points. \n",
    "- The third argument tells Python how many elements we want."
   ]
  },
  {
   "cell_type": "markdown",
   "metadata": {},
   "source": [
    "We will use the `numpy` package all the time. It is the basic workhorse of scientific computing with Python. We can't do much with arrays of numbers."
   ]
  },
  {
   "cell_type": "markdown",
   "metadata": {},
   "source": [
    "Does our `OLR` function work on an array of temperature values?"
   ]
  },
  {
   "cell_type": "code",
   "execution_count": 23,
   "metadata": {},
   "outputs": [
    {
     "data": {
      "text/plain": [
       "array([ 97.01280716, 110.81607992, 126.04243493, 142.7864768 ,\n",
       "       161.1458549 , 181.22126332, 203.11644092, 226.9381713 ,\n",
       "       252.7962828 , 280.80364851])"
      ]
     },
     "execution_count": 23,
     "metadata": {},
     "output_type": "execute_result"
    }
   ],
   "source": [
    "OLR(T)"
   ]
  },
  {
   "cell_type": "markdown",
   "metadata": {
    "slideshow": {
     "slide_type": "slide"
    }
   },
   "source": [
    "____________\n",
    "\n",
    "## 4. Summary\n",
    "____________"
   ]
  },
  {
   "cell_type": "markdown",
   "metadata": {},
   "source": [
    "- **Climate** is essentially **statistics of weather**.\n",
    "- The planet **warms up** or **cools down** in response to **differences** between **energy absorbed from the sun** and **energy emitted to space**.\n",
    "- A **climate model** represents (mathematically of numerically) these **exchanges of energy** between the **Earth system** and **space**.\n",
    "- The observed emission to space or **Outgoing Longwave Radiation** is consistent with an emission temperature $T_e = 255$ K -- **much colder than Earth's surface**.\n",
    "- This is evidence of the **greenhouse effect**.\n",
    "- We adopted a very simple greenhouse model, assuming a fixed *transmissivity* $\\tau$ for the atmosphere. \n",
    "- $\\tau$ conceptually represents the *fraction of the emission from the **surface** that makes it all the way to space.* It is a number less than 1.\n",
    "- Python is fun and useful."
   ]
  },
  {
   "cell_type": "markdown",
   "metadata": {
    "slideshow": {
     "slide_type": "skip"
    }
   },
   "source": [
    "____________\n",
    "\n",
    "## Credits\n",
    "\n",
    "This notebook is part of [The Climate Laboratory](https://brian-rose.github.io/ClimateLaboratoryBook), an open-source textbook developed and maintained by [Brian E. J. Rose](http://www.atmos.albany.edu/facstaff/brose/index.html), University at Albany.\n",
    "\n",
    "It is licensed for free and open consumption under the\n",
    "[Creative Commons Attribution 4.0 International (CC BY 4.0)](https://creativecommons.org/licenses/by/4.0/) license.\n",
    "\n",
    "Development of these notes and the [climlab software](https://github.com/brian-rose/climlab) is partially supported by the National Science Foundation under award AGS-1455071 to Brian Rose. Any opinions, findings, conclusions or recommendations expressed here are mine and do not necessarily reflect the views of the National Science Foundation.\n",
    "____________"
   ]
  }
 ],
 "metadata": {
  "anaconda-cloud": {},
  "kernelspec": {
   "display_name": "Python 3",
   "language": "python",
   "name": "python3"
  },
  "language_info": {
   "codemirror_mode": {
    "name": "ipython",
    "version": 3
   },
   "file_extension": ".py",
   "mimetype": "text/x-python",
   "name": "python",
   "nbconvert_exporter": "python",
   "pygments_lexer": "ipython3",
   "version": "3.8.12"
  }
 },
 "nbformat": 4,
 "nbformat_minor": 4
}
